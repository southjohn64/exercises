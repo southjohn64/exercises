{
  "nbformat": 4,
  "nbformat_minor": 0,
  "metadata": {
    "colab": {
      "provenance": [],
      "toc_visible": true,
      "authorship_tag": "ABX9TyNkNGXS8fHT0lR2OOJTpIjY",
      "include_colab_link": true
    },
    "kernelspec": {
      "name": "python3",
      "display_name": "Python 3"
    },
    "language_info": {
      "name": "python"
    }
  },
  "cells": [
    {
      "cell_type": "markdown",
      "metadata": {
        "id": "view-in-github",
        "colab_type": "text"
      },
      "source": [
        "<a href=\"https://colab.research.google.com/github/southjohn64/exercises/blob/main/reg_project.ipynb\" target=\"_parent\"><img src=\"https://colab.research.google.com/assets/colab-badge.svg\" alt=\"Open In Colab\"/></a>"
      ]
    },
    {
      "cell_type": "code",
      "execution_count": 173,
      "metadata": {
        "id": "WG43nqDWltWs"
      },
      "outputs": [],
      "source": [
        "import sklearn as sk\n",
        "import pandas as pd\n",
        "from sklearn.metrics import mean_squared_error\n",
        "from sklearn.impute import SimpleImputer\n",
        "import seaborn as sns\n",
        "#k-nearest, regression-trees, linear regression\n",
        "from sklearn.neighbors import KNeighborsClassifier\n",
        "from sklearn.tree import DecisionTreeRegressor\n",
        "from sklearn.linear_model import LinearRegression\n",
        "from sklearn.model_selection import train_test_split\n",
        "import numpy as np"
      ]
    },
    {
      "cell_type": "code",
      "source": [
        "from google.colab import drive\n",
        "drive.mount('/content/gdrive')"
      ],
      "metadata": {
        "colab": {
          "base_uri": "https://localhost:8080/"
        },
        "id": "1Df_rYEuVmEU",
        "outputId": "7d3d9ff6-0776-4ea5-d348-df251c6f9d35"
      },
      "execution_count": 2,
      "outputs": [
        {
          "output_type": "stream",
          "name": "stdout",
          "text": [
            "Drive already mounted at /content/gdrive; to attempt to forcibly remount, call drive.mount(\"/content/gdrive\", force_remount=True).\n"
          ]
        }
      ]
    },
    {
      "cell_type": "markdown",
      "source": [
        "# Read data"
      ],
      "metadata": {
        "id": "BVgtNVdUlidH"
      }
    },
    {
      "cell_type": "code",
      "source": [
        "X_TRAIN_PATH = '/content/gdrive/MyDrive/Colab Notebooks/data/X_train.csv'\n",
        "Y_TRAIN_PATH = '/content/gdrive/MyDrive/Colab Notebooks/data/y_train.csv'\n",
        "X_TEST_PATH = '/content/gdrive/MyDrive/Colab Notebooks/data/X_test.csv'"
      ],
      "metadata": {
        "id": "OBeBZ0KnVvam"
      },
      "execution_count": 174,
      "outputs": []
    },
    {
      "cell_type": "markdown",
      "source": [
        "TRAIN"
      ],
      "metadata": {
        "id": "yjE-nv_IiUlp"
      }
    },
    {
      "cell_type": "code",
      "source": [
        "df_x_train_skills = pd.read_csv(X_TRAIN_PATH)\n",
        "df_x_train_skills = df_x_train_skills[['Age', 'Gender', 'Education Level','Job Title', 'Years of Experience', 'Country', 'Race', 'height','weight', 'id', 'professionalism']]\n",
        "df_x_train_skills.set_index('id',drop=True,inplace=True)\n",
        "df_x_train_skills.head()"
      ],
      "metadata": {
        "colab": {
          "base_uri": "https://localhost:8080/",
          "height": 238
        },
        "id": "w_r2M1MRq_o0",
        "outputId": "00b19a06-560b-4505-b178-67ad3104ab47"
      },
      "execution_count": 175,
      "outputs": [
        {
          "output_type": "execute_result",
          "data": {
            "text/plain": [
              "       Age Gender  Education Level              Job Title  \\\n",
              "id                                                          \n",
              "2477  52.0      M  bachelor's|degr      back|end|develope   \n",
              "76    52.0      F         bachelor      operations|manage   \n",
              "64    27.0      M         bachelor       junior|accountan   \n",
              "924   32.0      M         bachelor            data|analys   \n",
              "242   39.0      F         bachelor  senior|product|manage   \n",
              "\n",
              "      Years of Experience   Country        Race    height     weight  \\\n",
              "id                                                                     \n",
              "2477                 24.0  australi       Asian  1.800316  95.021957   \n",
              "76                   23.0        us       White  2.451414  87.456039   \n",
              "64                    2.0  australi  Australian  1.917509  56.997108   \n",
              "924                  11.0         u       Welsh  2.160562  61.403169   \n",
              "242                  11.0      chin      Korean  1.794105  72.049210   \n",
              "\n",
              "      professionalism  \n",
              "id                     \n",
              "2477           1150.0  \n",
              "76             1100.0  \n",
              "64               26.0  \n",
              "924             279.0  \n",
              "242             380.0  "
            ],
            "text/html": [
              "\n",
              "\n",
              "  <div id=\"df-616cc73a-aff7-4def-a470-8dc3d60825f5\">\n",
              "    <div class=\"colab-df-container\">\n",
              "      <div>\n",
              "<style scoped>\n",
              "    .dataframe tbody tr th:only-of-type {\n",
              "        vertical-align: middle;\n",
              "    }\n",
              "\n",
              "    .dataframe tbody tr th {\n",
              "        vertical-align: top;\n",
              "    }\n",
              "\n",
              "    .dataframe thead th {\n",
              "        text-align: right;\n",
              "    }\n",
              "</style>\n",
              "<table border=\"1\" class=\"dataframe\">\n",
              "  <thead>\n",
              "    <tr style=\"text-align: right;\">\n",
              "      <th></th>\n",
              "      <th>Age</th>\n",
              "      <th>Gender</th>\n",
              "      <th>Education Level</th>\n",
              "      <th>Job Title</th>\n",
              "      <th>Years of Experience</th>\n",
              "      <th>Country</th>\n",
              "      <th>Race</th>\n",
              "      <th>height</th>\n",
              "      <th>weight</th>\n",
              "      <th>professionalism</th>\n",
              "    </tr>\n",
              "    <tr>\n",
              "      <th>id</th>\n",
              "      <th></th>\n",
              "      <th></th>\n",
              "      <th></th>\n",
              "      <th></th>\n",
              "      <th></th>\n",
              "      <th></th>\n",
              "      <th></th>\n",
              "      <th></th>\n",
              "      <th></th>\n",
              "      <th></th>\n",
              "    </tr>\n",
              "  </thead>\n",
              "  <tbody>\n",
              "    <tr>\n",
              "      <th>2477</th>\n",
              "      <td>52.0</td>\n",
              "      <td>M</td>\n",
              "      <td>bachelor's|degr</td>\n",
              "      <td>back|end|develope</td>\n",
              "      <td>24.0</td>\n",
              "      <td>australi</td>\n",
              "      <td>Asian</td>\n",
              "      <td>1.800316</td>\n",
              "      <td>95.021957</td>\n",
              "      <td>1150.0</td>\n",
              "    </tr>\n",
              "    <tr>\n",
              "      <th>76</th>\n",
              "      <td>52.0</td>\n",
              "      <td>F</td>\n",
              "      <td>bachelor</td>\n",
              "      <td>operations|manage</td>\n",
              "      <td>23.0</td>\n",
              "      <td>us</td>\n",
              "      <td>White</td>\n",
              "      <td>2.451414</td>\n",
              "      <td>87.456039</td>\n",
              "      <td>1100.0</td>\n",
              "    </tr>\n",
              "    <tr>\n",
              "      <th>64</th>\n",
              "      <td>27.0</td>\n",
              "      <td>M</td>\n",
              "      <td>bachelor</td>\n",
              "      <td>junior|accountan</td>\n",
              "      <td>2.0</td>\n",
              "      <td>australi</td>\n",
              "      <td>Australian</td>\n",
              "      <td>1.917509</td>\n",
              "      <td>56.997108</td>\n",
              "      <td>26.0</td>\n",
              "    </tr>\n",
              "    <tr>\n",
              "      <th>924</th>\n",
              "      <td>32.0</td>\n",
              "      <td>M</td>\n",
              "      <td>bachelor</td>\n",
              "      <td>data|analys</td>\n",
              "      <td>11.0</td>\n",
              "      <td>u</td>\n",
              "      <td>Welsh</td>\n",
              "      <td>2.160562</td>\n",
              "      <td>61.403169</td>\n",
              "      <td>279.0</td>\n",
              "    </tr>\n",
              "    <tr>\n",
              "      <th>242</th>\n",
              "      <td>39.0</td>\n",
              "      <td>F</td>\n",
              "      <td>bachelor</td>\n",
              "      <td>senior|product|manage</td>\n",
              "      <td>11.0</td>\n",
              "      <td>chin</td>\n",
              "      <td>Korean</td>\n",
              "      <td>1.794105</td>\n",
              "      <td>72.049210</td>\n",
              "      <td>380.0</td>\n",
              "    </tr>\n",
              "  </tbody>\n",
              "</table>\n",
              "</div>\n",
              "      <button class=\"colab-df-convert\" onclick=\"convertToInteractive('df-616cc73a-aff7-4def-a470-8dc3d60825f5')\"\n",
              "              title=\"Convert this dataframe to an interactive table.\"\n",
              "              style=\"display:none;\">\n",
              "\n",
              "  <svg xmlns=\"http://www.w3.org/2000/svg\" height=\"24px\"viewBox=\"0 0 24 24\"\n",
              "       width=\"24px\">\n",
              "    <path d=\"M0 0h24v24H0V0z\" fill=\"none\"/>\n",
              "    <path d=\"M18.56 5.44l.94 2.06.94-2.06 2.06-.94-2.06-.94-.94-2.06-.94 2.06-2.06.94zm-11 1L8.5 8.5l.94-2.06 2.06-.94-2.06-.94L8.5 2.5l-.94 2.06-2.06.94zm10 10l.94 2.06.94-2.06 2.06-.94-2.06-.94-.94-2.06-.94 2.06-2.06.94z\"/><path d=\"M17.41 7.96l-1.37-1.37c-.4-.4-.92-.59-1.43-.59-.52 0-1.04.2-1.43.59L10.3 9.45l-7.72 7.72c-.78.78-.78 2.05 0 2.83L4 21.41c.39.39.9.59 1.41.59.51 0 1.02-.2 1.41-.59l7.78-7.78 2.81-2.81c.8-.78.8-2.07 0-2.86zM5.41 20L4 18.59l7.72-7.72 1.47 1.35L5.41 20z\"/>\n",
              "  </svg>\n",
              "      </button>\n",
              "\n",
              "\n",
              "\n",
              "    <div id=\"df-e8d4466a-2dc8-4374-a521-5f334d1c469f\">\n",
              "      <button class=\"colab-df-quickchart\" onclick=\"quickchart('df-e8d4466a-2dc8-4374-a521-5f334d1c469f')\"\n",
              "              title=\"Suggest charts.\"\n",
              "              style=\"display:none;\">\n",
              "\n",
              "<svg xmlns=\"http://www.w3.org/2000/svg\" height=\"24px\"viewBox=\"0 0 24 24\"\n",
              "     width=\"24px\">\n",
              "    <g>\n",
              "        <path d=\"M19 3H5c-1.1 0-2 .9-2 2v14c0 1.1.9 2 2 2h14c1.1 0 2-.9 2-2V5c0-1.1-.9-2-2-2zM9 17H7v-7h2v7zm4 0h-2V7h2v10zm4 0h-2v-4h2v4z\"/>\n",
              "    </g>\n",
              "</svg>\n",
              "      </button>\n",
              "    </div>\n",
              "\n",
              "<style>\n",
              "  .colab-df-quickchart {\n",
              "    background-color: #E8F0FE;\n",
              "    border: none;\n",
              "    border-radius: 50%;\n",
              "    cursor: pointer;\n",
              "    display: none;\n",
              "    fill: #1967D2;\n",
              "    height: 32px;\n",
              "    padding: 0 0 0 0;\n",
              "    width: 32px;\n",
              "  }\n",
              "\n",
              "  .colab-df-quickchart:hover {\n",
              "    background-color: #E2EBFA;\n",
              "    box-shadow: 0px 1px 2px rgba(60, 64, 67, 0.3), 0px 1px 3px 1px rgba(60, 64, 67, 0.15);\n",
              "    fill: #174EA6;\n",
              "  }\n",
              "\n",
              "  [theme=dark] .colab-df-quickchart {\n",
              "    background-color: #3B4455;\n",
              "    fill: #D2E3FC;\n",
              "  }\n",
              "\n",
              "  [theme=dark] .colab-df-quickchart:hover {\n",
              "    background-color: #434B5C;\n",
              "    box-shadow: 0px 1px 3px 1px rgba(0, 0, 0, 0.15);\n",
              "    filter: drop-shadow(0px 1px 2px rgba(0, 0, 0, 0.3));\n",
              "    fill: #FFFFFF;\n",
              "  }\n",
              "</style>\n",
              "\n",
              "    <script>\n",
              "      async function quickchart(key) {\n",
              "        const containerElement = document.querySelector('#' + key);\n",
              "        const charts = await google.colab.kernel.invokeFunction(\n",
              "            'suggestCharts', [key], {});\n",
              "      }\n",
              "    </script>\n",
              "\n",
              "      <script>\n",
              "\n",
              "function displayQuickchartButton(domScope) {\n",
              "  let quickchartButtonEl =\n",
              "    domScope.querySelector('#df-e8d4466a-2dc8-4374-a521-5f334d1c469f button.colab-df-quickchart');\n",
              "  quickchartButtonEl.style.display =\n",
              "    google.colab.kernel.accessAllowed ? 'block' : 'none';\n",
              "}\n",
              "\n",
              "        displayQuickchartButton(document);\n",
              "      </script>\n",
              "      <style>\n",
              "    .colab-df-container {\n",
              "      display:flex;\n",
              "      flex-wrap:wrap;\n",
              "      gap: 12px;\n",
              "    }\n",
              "\n",
              "    .colab-df-convert {\n",
              "      background-color: #E8F0FE;\n",
              "      border: none;\n",
              "      border-radius: 50%;\n",
              "      cursor: pointer;\n",
              "      display: none;\n",
              "      fill: #1967D2;\n",
              "      height: 32px;\n",
              "      padding: 0 0 0 0;\n",
              "      width: 32px;\n",
              "    }\n",
              "\n",
              "    .colab-df-convert:hover {\n",
              "      background-color: #E2EBFA;\n",
              "      box-shadow: 0px 1px 2px rgba(60, 64, 67, 0.3), 0px 1px 3px 1px rgba(60, 64, 67, 0.15);\n",
              "      fill: #174EA6;\n",
              "    }\n",
              "\n",
              "    [theme=dark] .colab-df-convert {\n",
              "      background-color: #3B4455;\n",
              "      fill: #D2E3FC;\n",
              "    }\n",
              "\n",
              "    [theme=dark] .colab-df-convert:hover {\n",
              "      background-color: #434B5C;\n",
              "      box-shadow: 0px 1px 3px 1px rgba(0, 0, 0, 0.15);\n",
              "      filter: drop-shadow(0px 1px 2px rgba(0, 0, 0, 0.3));\n",
              "      fill: #FFFFFF;\n",
              "    }\n",
              "  </style>\n",
              "\n",
              "      <script>\n",
              "        const buttonEl =\n",
              "          document.querySelector('#df-616cc73a-aff7-4def-a470-8dc3d60825f5 button.colab-df-convert');\n",
              "        buttonEl.style.display =\n",
              "          google.colab.kernel.accessAllowed ? 'block' : 'none';\n",
              "\n",
              "        async function convertToInteractive(key) {\n",
              "          const element = document.querySelector('#df-616cc73a-aff7-4def-a470-8dc3d60825f5');\n",
              "          const dataTable =\n",
              "            await google.colab.kernel.invokeFunction('convertToInteractive',\n",
              "                                                     [key], {});\n",
              "          if (!dataTable) return;\n",
              "\n",
              "          const docLinkHtml = 'Like what you see? Visit the ' +\n",
              "            '<a target=\"_blank\" href=https://colab.research.google.com/notebooks/data_table.ipynb>data table notebook</a>'\n",
              "            + ' to learn more about interactive tables.';\n",
              "          element.innerHTML = '';\n",
              "          dataTable['output_type'] = 'display_data';\n",
              "          await google.colab.output.renderOutput(dataTable, element);\n",
              "          const docLink = document.createElement('div');\n",
              "          docLink.innerHTML = docLinkHtml;\n",
              "          element.appendChild(docLink);\n",
              "        }\n",
              "      </script>\n",
              "    </div>\n",
              "  </div>\n"
            ]
          },
          "metadata": {},
          "execution_count": 175
        }
      ]
    },
    {
      "cell_type": "code",
      "source": [
        "df_x_train_skills.info()"
      ],
      "metadata": {
        "colab": {
          "base_uri": "https://localhost:8080/"
        },
        "id": "k0NTSyYN1Ulm",
        "outputId": "0b73c00f-8b58-402a-af13-4ce969027ed0"
      },
      "execution_count": 176,
      "outputs": [
        {
          "output_type": "stream",
          "name": "stdout",
          "text": [
            "<class 'pandas.core.frame.DataFrame'>\n",
            "Int64Index: 5363 entries, 2477 to 3572\n",
            "Data columns (total 10 columns):\n",
            " #   Column               Non-Null Count  Dtype  \n",
            "---  ------               --------------  -----  \n",
            " 0   Age                  5359 non-null   float64\n",
            " 1   Gender               5359 non-null   object \n",
            " 2   Education Level      5360 non-null   object \n",
            " 3   Job Title            5361 non-null   object \n",
            " 4   Years of Experience  5360 non-null   float64\n",
            " 5   Country              5363 non-null   object \n",
            " 6   Race                 5363 non-null   object \n",
            " 7   height               5363 non-null   float64\n",
            " 8   weight               5361 non-null   float64\n",
            " 9   professionalism      5360 non-null   float64\n",
            "dtypes: float64(5), object(5)\n",
            "memory usage: 460.9+ KB\n"
          ]
        }
      ]
    },
    {
      "cell_type": "code",
      "source": [
        "df_y_train_skills = pd.read_csv(Y_TRAIN_PATH,index_col=[0])\n",
        "df_y_train_skills.head()"
      ],
      "metadata": {
        "colab": {
          "base_uri": "https://localhost:8080/",
          "height": 206
        },
        "id": "yb4FKmKevIg_",
        "outputId": "9ffef251-3b38-4089-d2fa-8e512b446c87"
      },
      "execution_count": 177,
      "outputs": [
        {
          "output_type": "execute_result",
          "data": {
            "text/plain": [
              "        Salary\n",
              "2477  175966.0\n",
              "76    160000.0\n",
              "64     35000.0\n",
              "924   195000.0\n",
              "242   120000.0"
            ],
            "text/html": [
              "\n",
              "\n",
              "  <div id=\"df-cea6e554-b23a-4c1c-a7e1-c90a91c5c11b\">\n",
              "    <div class=\"colab-df-container\">\n",
              "      <div>\n",
              "<style scoped>\n",
              "    .dataframe tbody tr th:only-of-type {\n",
              "        vertical-align: middle;\n",
              "    }\n",
              "\n",
              "    .dataframe tbody tr th {\n",
              "        vertical-align: top;\n",
              "    }\n",
              "\n",
              "    .dataframe thead th {\n",
              "        text-align: right;\n",
              "    }\n",
              "</style>\n",
              "<table border=\"1\" class=\"dataframe\">\n",
              "  <thead>\n",
              "    <tr style=\"text-align: right;\">\n",
              "      <th></th>\n",
              "      <th>Salary</th>\n",
              "    </tr>\n",
              "  </thead>\n",
              "  <tbody>\n",
              "    <tr>\n",
              "      <th>2477</th>\n",
              "      <td>175966.0</td>\n",
              "    </tr>\n",
              "    <tr>\n",
              "      <th>76</th>\n",
              "      <td>160000.0</td>\n",
              "    </tr>\n",
              "    <tr>\n",
              "      <th>64</th>\n",
              "      <td>35000.0</td>\n",
              "    </tr>\n",
              "    <tr>\n",
              "      <th>924</th>\n",
              "      <td>195000.0</td>\n",
              "    </tr>\n",
              "    <tr>\n",
              "      <th>242</th>\n",
              "      <td>120000.0</td>\n",
              "    </tr>\n",
              "  </tbody>\n",
              "</table>\n",
              "</div>\n",
              "      <button class=\"colab-df-convert\" onclick=\"convertToInteractive('df-cea6e554-b23a-4c1c-a7e1-c90a91c5c11b')\"\n",
              "              title=\"Convert this dataframe to an interactive table.\"\n",
              "              style=\"display:none;\">\n",
              "\n",
              "  <svg xmlns=\"http://www.w3.org/2000/svg\" height=\"24px\"viewBox=\"0 0 24 24\"\n",
              "       width=\"24px\">\n",
              "    <path d=\"M0 0h24v24H0V0z\" fill=\"none\"/>\n",
              "    <path d=\"M18.56 5.44l.94 2.06.94-2.06 2.06-.94-2.06-.94-.94-2.06-.94 2.06-2.06.94zm-11 1L8.5 8.5l.94-2.06 2.06-.94-2.06-.94L8.5 2.5l-.94 2.06-2.06.94zm10 10l.94 2.06.94-2.06 2.06-.94-2.06-.94-.94-2.06-.94 2.06-2.06.94z\"/><path d=\"M17.41 7.96l-1.37-1.37c-.4-.4-.92-.59-1.43-.59-.52 0-1.04.2-1.43.59L10.3 9.45l-7.72 7.72c-.78.78-.78 2.05 0 2.83L4 21.41c.39.39.9.59 1.41.59.51 0 1.02-.2 1.41-.59l7.78-7.78 2.81-2.81c.8-.78.8-2.07 0-2.86zM5.41 20L4 18.59l7.72-7.72 1.47 1.35L5.41 20z\"/>\n",
              "  </svg>\n",
              "      </button>\n",
              "\n",
              "\n",
              "\n",
              "    <div id=\"df-f2bba2e3-f771-44e0-bc19-e48dabc6b314\">\n",
              "      <button class=\"colab-df-quickchart\" onclick=\"quickchart('df-f2bba2e3-f771-44e0-bc19-e48dabc6b314')\"\n",
              "              title=\"Suggest charts.\"\n",
              "              style=\"display:none;\">\n",
              "\n",
              "<svg xmlns=\"http://www.w3.org/2000/svg\" height=\"24px\"viewBox=\"0 0 24 24\"\n",
              "     width=\"24px\">\n",
              "    <g>\n",
              "        <path d=\"M19 3H5c-1.1 0-2 .9-2 2v14c0 1.1.9 2 2 2h14c1.1 0 2-.9 2-2V5c0-1.1-.9-2-2-2zM9 17H7v-7h2v7zm4 0h-2V7h2v10zm4 0h-2v-4h2v4z\"/>\n",
              "    </g>\n",
              "</svg>\n",
              "      </button>\n",
              "    </div>\n",
              "\n",
              "<style>\n",
              "  .colab-df-quickchart {\n",
              "    background-color: #E8F0FE;\n",
              "    border: none;\n",
              "    border-radius: 50%;\n",
              "    cursor: pointer;\n",
              "    display: none;\n",
              "    fill: #1967D2;\n",
              "    height: 32px;\n",
              "    padding: 0 0 0 0;\n",
              "    width: 32px;\n",
              "  }\n",
              "\n",
              "  .colab-df-quickchart:hover {\n",
              "    background-color: #E2EBFA;\n",
              "    box-shadow: 0px 1px 2px rgba(60, 64, 67, 0.3), 0px 1px 3px 1px rgba(60, 64, 67, 0.15);\n",
              "    fill: #174EA6;\n",
              "  }\n",
              "\n",
              "  [theme=dark] .colab-df-quickchart {\n",
              "    background-color: #3B4455;\n",
              "    fill: #D2E3FC;\n",
              "  }\n",
              "\n",
              "  [theme=dark] .colab-df-quickchart:hover {\n",
              "    background-color: #434B5C;\n",
              "    box-shadow: 0px 1px 3px 1px rgba(0, 0, 0, 0.15);\n",
              "    filter: drop-shadow(0px 1px 2px rgba(0, 0, 0, 0.3));\n",
              "    fill: #FFFFFF;\n",
              "  }\n",
              "</style>\n",
              "\n",
              "    <script>\n",
              "      async function quickchart(key) {\n",
              "        const containerElement = document.querySelector('#' + key);\n",
              "        const charts = await google.colab.kernel.invokeFunction(\n",
              "            'suggestCharts', [key], {});\n",
              "      }\n",
              "    </script>\n",
              "\n",
              "      <script>\n",
              "\n",
              "function displayQuickchartButton(domScope) {\n",
              "  let quickchartButtonEl =\n",
              "    domScope.querySelector('#df-f2bba2e3-f771-44e0-bc19-e48dabc6b314 button.colab-df-quickchart');\n",
              "  quickchartButtonEl.style.display =\n",
              "    google.colab.kernel.accessAllowed ? 'block' : 'none';\n",
              "}\n",
              "\n",
              "        displayQuickchartButton(document);\n",
              "      </script>\n",
              "      <style>\n",
              "    .colab-df-container {\n",
              "      display:flex;\n",
              "      flex-wrap:wrap;\n",
              "      gap: 12px;\n",
              "    }\n",
              "\n",
              "    .colab-df-convert {\n",
              "      background-color: #E8F0FE;\n",
              "      border: none;\n",
              "      border-radius: 50%;\n",
              "      cursor: pointer;\n",
              "      display: none;\n",
              "      fill: #1967D2;\n",
              "      height: 32px;\n",
              "      padding: 0 0 0 0;\n",
              "      width: 32px;\n",
              "    }\n",
              "\n",
              "    .colab-df-convert:hover {\n",
              "      background-color: #E2EBFA;\n",
              "      box-shadow: 0px 1px 2px rgba(60, 64, 67, 0.3), 0px 1px 3px 1px rgba(60, 64, 67, 0.15);\n",
              "      fill: #174EA6;\n",
              "    }\n",
              "\n",
              "    [theme=dark] .colab-df-convert {\n",
              "      background-color: #3B4455;\n",
              "      fill: #D2E3FC;\n",
              "    }\n",
              "\n",
              "    [theme=dark] .colab-df-convert:hover {\n",
              "      background-color: #434B5C;\n",
              "      box-shadow: 0px 1px 3px 1px rgba(0, 0, 0, 0.15);\n",
              "      filter: drop-shadow(0px 1px 2px rgba(0, 0, 0, 0.3));\n",
              "      fill: #FFFFFF;\n",
              "    }\n",
              "  </style>\n",
              "\n",
              "      <script>\n",
              "        const buttonEl =\n",
              "          document.querySelector('#df-cea6e554-b23a-4c1c-a7e1-c90a91c5c11b button.colab-df-convert');\n",
              "        buttonEl.style.display =\n",
              "          google.colab.kernel.accessAllowed ? 'block' : 'none';\n",
              "\n",
              "        async function convertToInteractive(key) {\n",
              "          const element = document.querySelector('#df-cea6e554-b23a-4c1c-a7e1-c90a91c5c11b');\n",
              "          const dataTable =\n",
              "            await google.colab.kernel.invokeFunction('convertToInteractive',\n",
              "                                                     [key], {});\n",
              "          if (!dataTable) return;\n",
              "\n",
              "          const docLinkHtml = 'Like what you see? Visit the ' +\n",
              "            '<a target=\"_blank\" href=https://colab.research.google.com/notebooks/data_table.ipynb>data table notebook</a>'\n",
              "            + ' to learn more about interactive tables.';\n",
              "          element.innerHTML = '';\n",
              "          dataTable['output_type'] = 'display_data';\n",
              "          await google.colab.output.renderOutput(dataTable, element);\n",
              "          const docLink = document.createElement('div');\n",
              "          docLink.innerHTML = docLinkHtml;\n",
              "          element.appendChild(docLink);\n",
              "        }\n",
              "      </script>\n",
              "    </div>\n",
              "  </div>\n"
            ]
          },
          "metadata": {},
          "execution_count": 177
        }
      ]
    },
    {
      "cell_type": "markdown",
      "source": [
        "Check for nan"
      ],
      "metadata": {
        "id": "-40sM53L01cw"
      }
    },
    {
      "cell_type": "code",
      "source": [
        "df_y_train_skills.info()"
      ],
      "metadata": {
        "colab": {
          "base_uri": "https://localhost:8080/"
        },
        "id": "bnTovHanwjhM",
        "outputId": "a14eaef0-e315-4363-c283-877819d771ad"
      },
      "execution_count": 178,
      "outputs": [
        {
          "output_type": "stream",
          "name": "stdout",
          "text": [
            "<class 'pandas.core.frame.DataFrame'>\n",
            "Int64Index: 5363 entries, 2477 to 3572\n",
            "Data columns (total 1 columns):\n",
            " #   Column  Non-Null Count  Dtype  \n",
            "---  ------  --------------  -----  \n",
            " 0   Salary  5358 non-null   float64\n",
            "dtypes: float64(1)\n",
            "memory usage: 83.8 KB\n"
          ]
        }
      ]
    },
    {
      "cell_type": "code",
      "source": [
        "df_y_train_skills.hist()"
      ],
      "metadata": {
        "colab": {
          "base_uri": "https://localhost:8080/",
          "height": 469
        },
        "id": "wuZaydV70OLf",
        "outputId": "42624334-c2af-4ad4-b986-9c165b4895fa"
      },
      "execution_count": 179,
      "outputs": [
        {
          "output_type": "execute_result",
          "data": {
            "text/plain": [
              "array([[<Axes: title={'center': 'Salary'}>]], dtype=object)"
            ]
          },
          "metadata": {},
          "execution_count": 179
        },
        {
          "output_type": "display_data",
          "data": {
            "text/plain": [
              "<Figure size 640x480 with 1 Axes>"
            ],
            "image/png": "[encoded data removed]"
          },
          "metadata": {}
        }
      ]
    },
    {
      "cell_type": "markdown",
      "source": [
        "TEST"
      ],
      "metadata": {
        "id": "ybx8aoEFpNpQ"
      }
    },
    {
      "cell_type": "code",
      "source": [
        "df_x_test_skills = pd.read_csv(X_TEST_PATH)\n",
        "df_x_test_skills = df_x_test_skills[['Age', 'Gender', 'Education Level','Job Title', 'Years of Experience', 'Country', 'Race', 'height','weight', 'id', 'professionalism']]\n",
        "df_x_test_skills.set_index('id',drop=True,inplace=True)\n",
        "df_x_test_skills.info()"
      ],
      "metadata": {
        "colab": {
          "base_uri": "https://localhost:8080/"
        },
        "id": "qqerwLiOzfQA",
        "outputId": "8a705448-72fe-4fd5-b546-5415e89d29e0"
      },
      "execution_count": 180,
      "outputs": [
        {
          "output_type": "stream",
          "name": "stdout",
          "text": [
            "<class 'pandas.core.frame.DataFrame'>\n",
            "Int64Index: 1341 entries, 6480 to 2506\n",
            "Data columns (total 10 columns):\n",
            " #   Column               Non-Null Count  Dtype  \n",
            "---  ------               --------------  -----  \n",
            " 0   Age                  1341 non-null   float64\n",
            " 1   Gender               1341 non-null   object \n",
            " 2   Education Level      1341 non-null   object \n",
            " 3   Job Title            1341 non-null   object \n",
            " 4   Years of Experience  1341 non-null   float64\n",
            " 5   Country              1341 non-null   object \n",
            " 6   Race                 1341 non-null   object \n",
            " 7   height               1341 non-null   float64\n",
            " 8   weight               1341 non-null   float64\n",
            " 9   professionalism      1341 non-null   float64\n",
            "dtypes: float64(5), object(5)\n",
            "memory usage: 115.2+ KB\n"
          ]
        }
      ]
    },
    {
      "cell_type": "markdown",
      "source": [
        "# IMPUTE"
      ],
      "metadata": {
        "id": "JaMkcfHWlfbq"
      }
    },
    {
      "cell_type": "code",
      "source": [
        "def impute_missing_values(df_train, df_test , remove_row_missing_cat_data):\n",
        "  imputer_dict = {}\n",
        "  if remove_row_missing_cat_data:\n",
        "    for col in df_train.columns:\n",
        "        if df_train[col].dtype != 'object': #number\n",
        "          imp = SimpleImputer(strategy='mean')\n",
        "          df_train[col] = imp.fit_transform(df_train[col].values.reshape(-1, 1))\n",
        "          df_test[col] = imp.transform(df_test[col].values.reshape(-1, 1))\n",
        "          imputer_dict[col] = imp\n",
        "        else: #cat col\n",
        "            df_train.dropna(subset=[col], inplace=True) #remove rows with miss in categorical col\n",
        "            df_test\n",
        "  else:\n",
        "    for col in df_train.columns:\n",
        "        if df_train[col].dtype == 'object':\n",
        "          imp = SimpleImputer(strategy='most_frequent')\n",
        "\n",
        "        else:\n",
        "          imp = SimpleImputer(strategy='mean')\n",
        "        df_train[col] = imp.fit_transform(df_train[col].values.reshape(-1, 1))\n",
        "        df_test[col] = imp.transform(df_test[col].values.reshape(-1, 1))\n",
        "        imputer_dict[col] = imp\n",
        "  return df_train , df_test,imputer_dict"
      ],
      "metadata": {
        "id": "8fYG_P6ghdPb"
      },
      "execution_count": 181,
      "outputs": []
    },
    {
      "cell_type": "code",
      "source": [
        "# impute only continoues cols , remove rows\n",
        "# df_x_train_skills_copy = df_x_train_skills.copy()\n",
        "# df_x_test_skills_copy = df_x_test_skills.copy()\n",
        "\n",
        "# df_x_train_skills_copy,df_x_test_skills_copy,_ = impute_missing_values(df_x_train_skills_copy,df_x_test_skills_copy,True)\n",
        "# print(f'df_train_skills shape : {df_x_train_skills.shape} , after impute df_train_skills_copy shape : {df_x_train_skills_copy.shape}')\n",
        "# print(f'df_test_skills_copy shape : {df_x_test_skills.shape} , after impute df_test_skills_copy shape : {df_x_test_skills_copy.shape}')\n",
        "# print('*' *20)\n",
        "# df_x_train_skills_copy.info()"
      ],
      "metadata": {
        "id": "zBKLq527kmJ8"
      },
      "execution_count": null,
      "outputs": []
    },
    {
      "cell_type": "code",
      "source": [
        "#impute all\n",
        "# impute only continoues cols , remove rows\n",
        "# df_x_train_skills_copy = df_x_train_skills.copy()\n",
        "# df_x_test_skills_copy = df_x_test_skills.copy()\n",
        "\n",
        "# df_x_train_skills_copy,df_x_test_skills_copy,_ = impute_missing_values(df_x_train_skills_copy,df_x_test_skills_copy,False)\n",
        "# print(f'df_train_skills shape : {df_x_train_skills.shape} , after impute df_train_skills_copy shape : {df_x_train_skills_copy.shape}')\n",
        "# print(f'df_test_skills_copy shape : {df_x_test_skills.shape} , after impute df_test_skills_copy shape : {df_x_test_skills_copy.shape}')\n",
        "# print('*' *20)\n",
        "# df_x_train_skills_copy.info()"
      ],
      "metadata": {
        "id": "ZwUP2KhkjxsZ"
      },
      "execution_count": null,
      "outputs": []
    },
    {
      "cell_type": "markdown",
      "source": [
        "# One hot encode"
      ],
      "metadata": {
        "id": "Q67nlO8Gktq1"
      }
    },
    {
      "cell_type": "code",
      "source": [
        "def one_hot_encode(df)\n",
        "  #df_x_train_skills_copy_ZZZ = df.copy()\n",
        "  cat_col = list(df.select_dtypes(include=['object']).columns)\n",
        "  #print(cat_col)\n",
        "  one_hot = pd.get_dummies(df, columns=cat_col)\n",
        "  #print(one_hot)\n",
        "  df.drop(cat_col,axis = 1, inplace=True)\n",
        "  #print(df)\n",
        "  df_new = pd.concat([df,one_hot],axis=1)\n",
        "  #df_new.head()\n",
        "  return df"
      ],
      "metadata": {
        "id": "_-X_H8S4kvbD"
      },
      "execution_count": 182,
      "outputs": []
    },
    {
      "cell_type": "markdown",
      "source": [
        "# remove train Nan"
      ],
      "metadata": {
        "id": "l5qNePoC2zap"
      }
    },
    {
      "cell_type": "markdown",
      "source": [
        "PREPROCESS"
      ],
      "metadata": {
        "id": "Br8epjsw0LxB"
      }
    },
    {
      "cell_type": "code",
      "source": [
        "#remove nan values  from train\n",
        "na_filter = df_y_train_skills['Salary'].notna()\n",
        "df_y_train_skills = df_y_train_skills[na_filter]\n",
        "df_x_train_skills = df_x_train_skills[na_filter]\n",
        "\n",
        "\n",
        "#IMPUTE\n",
        "df_x_train_skills_copy = df_x_train_skills.copy()\n",
        "df_x_test_skills_copy = df_x_test_skills.copy()\n",
        "df_x_train_skills_copy,df_x_test_skills_copy, imputer_dict = impute_missing_values(df_x_train_skills_copy,df_x_test_skills_copy,False)\n",
        "\n",
        "#ENCODE\n",
        "df_x_train_skills_copy_encode = one_hot_encode(df_x_train_skills_copy)\n",
        "df_x_test_skills_copy_encode = one_hot_encode(df_x_test_skills_copy)"
      ],
      "metadata": {
        "id": "Wum1iskZ0NZj"
      },
      "execution_count": 185,
      "outputs": []
    },
    {
      "cell_type": "code",
      "source": [
        "df_x_test_skills_copy_encode.info()"
      ],
      "metadata": {
        "colab": {
          "base_uri": "https://localhost:8080/"
        },
        "id": "fZx_EehHKaxb",
        "outputId": "8bc47e51-6f77-41be-c306-0ecfe8bd2840"
      },
      "execution_count": 187,
      "outputs": [
        {
          "output_type": "stream",
          "name": "stdout",
          "text": [
            "<class 'pandas.core.frame.DataFrame'>\n",
            "Int64Index: 1341 entries, 6480 to 2506\n",
            "Columns: 135 entries, Age to Race_White\n",
            "dtypes: float64(10), uint8(125)\n",
            "memory usage: 278.9 KB\n"
          ]
        }
      ]
    },
    {
      "cell_type": "markdown",
      "source": [
        "# TRAIN"
      ],
      "metadata": {
        "id": "_rslYA2cjWJD"
      }
    },
    {
      "cell_type": "code",
      "source": [
        "def knn_train(df_x_train, series_y_train,v_n_neighbors):\n",
        "  knn = KNeighborsClassifier(n_neighbors=v_n_neighbors)\n",
        "  #knn.fit(df_x_train_skills_copy_encode, df_y_train_skills['Salary'])\n",
        "  knn.fit(df_x_train, series_y_train)\n",
        "  return knn"
      ],
      "metadata": {
        "id": "NlpLMD0XuZlE"
      },
      "execution_count": 144,
      "outputs": []
    },
    {
      "cell_type": "code",
      "source": [
        "def decision_tree_train(df_x_train,series_y_train):\n",
        "  decision_tree = DecisionTreeRegressor(random_state=0)\n",
        "  decision_tree.fit(df_x_train,series_y_train)\n",
        "  return decision_tree"
      ],
      "metadata": {
        "id": "xngwoFekuiBH"
      },
      "execution_count": 119,
      "outputs": []
    },
    {
      "cell_type": "code",
      "source": [
        "def lin_reg_train(df_x_train,series_y_train):\n",
        "  lin_reg_model = LinearRegression()\n",
        "  lin_reg_model.fit(df_x_train,series_y_train)\n",
        "  return lin_reg_model"
      ],
      "metadata": {
        "colab": {
          "base_uri": "https://localhost:8080/"
        },
        "id": "LrInelaEurwS",
        "outputId": "d29d2b3c-69aa-4238-805b-e8854cae9bc3"
      },
      "execution_count": 93,
      "outputs": [
        {
          "output_type": "execute_result",
          "data": {
            "text/plain": [
              "16349.742712072402"
            ]
          },
          "metadata": {},
          "execution_count": 93
        }
      ]
    },
    {
      "cell_type": "markdown",
      "source": [
        "# run train and validate\n",
        "took 10% from train for validation of the models"
      ],
      "metadata": {
        "id": "UNOM5NP59FrI"
      }
    },
    {
      "cell_type": "code",
      "source": [
        "train_x, val_x,train_y, val_y = train_test_split(df_x_train_skills_copy_encode,df_y_train_skills, test_size=0.1)"
      ],
      "metadata": {
        "id": "nso4mBz6_3sC"
      },
      "execution_count": 128,
      "outputs": []
    },
    {
      "cell_type": "markdown",
      "source": [
        "save results here"
      ],
      "metadata": {
        "id": "o6wOyMqwHTCL"
      }
    },
    {
      "cell_type": "code",
      "source": [
        "results_dict = {\"model\":[],\n",
        "                \"model_name\":[],\n",
        "                \"model_config\":[],\n",
        "                \"rmse_val\":[],\n",
        "                \"rmse_test\":[]}"
      ],
      "metadata": {
        "id": "SRg9o_QEHSFt"
      },
      "execution_count": null,
      "outputs": []
    },
    {
      "cell_type": "markdown",
      "source": [
        "knn search space on K"
      ],
      "metadata": {
        "id": "sOtQUPm5HVsz"
      }
    },
    {
      "cell_type": "code",
      "source": [
        "knn_values = range(3,11,2)\n",
        "for knn_val in knn_values:\n",
        "  knn_model = knn_train(train_x, train_y['Salary'],v_n_neighbors=knn_val)\n",
        "  knn_model_name = f'knn_{knn_val}'\n",
        "\n",
        "  y_pred = knn_model.predict(val_x)\n",
        "  y_true = val_y['Salary']\n",
        "  rmse_val = mean_squared_error(y_true, y_pred, squared=False)\n",
        "\n",
        "  #save results\n",
        "  results_dict['model'].append(knn_model)\n",
        "  results_dict['model_name'].append('KNN')\n",
        "  results_dict['model_config'].append(knn_model_name)\n",
        "  results_dict['rmse_val'].append(rmse_val)\n",
        "\n",
        "results_dict['rmse_test']=np.zeros_like(results_dict['rmse_val'],dtype=np.int32)\n",
        "results_dict"
      ],
      "metadata": {
        "colab": {
          "base_uri": "https://localhost:8080/"
        },
        "id": "JNlDBjmi58aG",
        "outputId": "7c17f4e7-7817-4373-bfbd-70d3aee16b1f"
      },
      "execution_count": 156,
      "outputs": [
        {
          "output_type": "execute_result",
          "data": {
            "text/plain": [
              "{'model': [KNeighborsClassifier(n_neighbors=3),\n",
              "  KNeighborsClassifier(),\n",
              "  KNeighborsClassifier(n_neighbors=7),\n",
              "  KNeighborsClassifier(n_neighbors=9)],\n",
              " 'model_name': ['knn', 'knn', 'knn', 'knn'],\n",
              " 'model_config': ['knn_3', 'knn_5', 'knn_7', 'knn_9'],\n",
              " 'rmse_val': [26985.71650481019,\n",
              "  26868.739223368077,\n",
              "  27342.882617492163,\n",
              "  28131.649947367005],\n",
              " 'rmse_test': array([0, 0, 0, 0], dtype=int32)}"
            ]
          },
          "metadata": {},
          "execution_count": 156
        }
      ]
    },
    {
      "cell_type": "markdown",
      "source": [
        "# TEST"
      ],
      "metadata": {
        "id": "Wxylm7z24GNI"
      }
    },
    {
      "cell_type": "code",
      "source": [
        "results_dict"
      ],
      "metadata": {
        "id": "wmnNM8CpIQmp"
      },
      "execution_count": null,
      "outputs": []
    },
    {
      "cell_type": "code",
      "source": [
        "for key, value in results_dict.items():\n",
        "  print(key, '->', value)"
      ],
      "metadata": {
        "colab": {
          "base_uri": "https://localhost:8080/"
        },
        "id": "RA1_SrKAIt0G",
        "outputId": "28be0c7d-114c-4782-dccc-a41e9ece4c81"
      },
      "execution_count": 168,
      "outputs": [
        {
          "output_type": "stream",
          "name": "stdout",
          "text": [
            "model -> [KNeighborsClassifier(n_neighbors=3), KNeighborsClassifier(), KNeighborsClassifier(n_neighbors=7), KNeighborsClassifier(n_neighbors=9), KNeighborsClassifier(n_neighbors=3), KNeighborsClassifier(), KNeighborsClassifier(n_neighbors=7), KNeighborsClassifier(n_neighbors=9)]\n",
            "model_name -> ['knn', 'knn', 'knn', 'knn', 'knn_TEST', 'knn_TEST', 'knn_TEST', 'knn_TEST']\n",
            "model_config -> ['knn_3', 'knn_5', 'knn_7', 'knn_9', 'knn_3', 'knn_5', 'knn_7', 'knn_9']\n",
            "rmse_val -> [26985.71650481019, 26868.739223368077, 27342.882617492163, 28131.649947367005, 26985.71650481019, 26868.739223368077, 27342.882617492163, 28131.649947367005]\n",
            "rmse_test -> [0 0 0 0 0 0 0 0]\n"
          ]
        }
      ]
    },
    {
      "cell_type": "code",
      "source": [
        "for model in results_dict.keys():\n",
        "  print(model)"
      ],
      "metadata": {
        "colab": {
          "base_uri": "https://localhost:8080/"
        },
        "id": "5RAWs0sPIHrH",
        "outputId": "836c437c-0320-47c0-a900-c3fee40f180c"
      },
      "execution_count": 166,
      "outputs": [
        {
          "output_type": "stream",
          "name": "stdout",
          "text": [
            "model\n",
            "model_name\n",
            "model_config\n",
            "rmse_val\n",
            "rmse_test\n"
          ]
        }
      ]
    },
    {
      "cell_type": "code",
      "source": [
        "dict_test = {\"id\":[],'salary':[]}\n",
        "models_arr = results_dict['model']\n",
        "model = models_arr[0]\n",
        "y_pred = model.predict(df_x_test_skills_copy_encode)\n",
        "\n",
        "dict_test[\"id\"] = list(df_x_test_skills_copy_encode.index)\n",
        "dict_test[\"salary\"] = y_pred\n",
        "\n",
        "dict_test"
      ],
      "metadata": {
        "colab": {
          "base_uri": "https://localhost:8080/",
          "height": 623
        },
        "id": "Gqk9vmDY8p8f",
        "outputId": "ed52ba6e-fbf9-4937-c33d-9463b625a40b"
      },
      "execution_count": 172,
      "outputs": [
        {
          "output_type": "error",
          "ename": "ValueError",
          "evalue": "ignored",
          "traceback": [
            "\u001b[0;31m---------------------------------------------------------------------------\u001b[0m",
            "\u001b[0;31mValueError\u001b[0m                                Traceback (most recent call last)",
            "\u001b[0;32m<ipython-input-172-4031293a74b3>\u001b[0m in \u001b[0;36m<cell line: 4>\u001b[0;34m()\u001b[0m\n\u001b[1;32m      2\u001b[0m \u001b[0mmodels_arr\u001b[0m \u001b[0;34m=\u001b[0m \u001b[0mresults_dict\u001b[0m\u001b[0;34m[\u001b[0m\u001b[0;34m'model'\u001b[0m\u001b[0;34m]\u001b[0m\u001b[0;34m\u001b[0m\u001b[0;34m\u001b[0m\u001b[0m\n\u001b[1;32m      3\u001b[0m \u001b[0mmodel\u001b[0m \u001b[0;34m=\u001b[0m \u001b[0mmodels_arr\u001b[0m\u001b[0;34m[\u001b[0m\u001b[0;36m0\u001b[0m\u001b[0;34m]\u001b[0m\u001b[0;34m\u001b[0m\u001b[0;34m\u001b[0m\u001b[0m\n\u001b[0;32m----> 4\u001b[0;31m \u001b[0my_pred\u001b[0m \u001b[0;34m=\u001b[0m \u001b[0mmodel\u001b[0m\u001b[0;34m.\u001b[0m\u001b[0mpredict\u001b[0m\u001b[0;34m(\u001b[0m\u001b[0mdf_x_test_skills_copy_encode\u001b[0m\u001b[0;34m)\u001b[0m\u001b[0;34m\u001b[0m\u001b[0;34m\u001b[0m\u001b[0m\n\u001b[0m\u001b[1;32m      5\u001b[0m \u001b[0;34m\u001b[0m\u001b[0m\n\u001b[1;32m      6\u001b[0m \u001b[0mdict_test\u001b[0m\u001b[0;34m[\u001b[0m\u001b[0;34m\"id\"\u001b[0m\u001b[0;34m]\u001b[0m \u001b[0;34m=\u001b[0m \u001b[0mlist\u001b[0m\u001b[0;34m(\u001b[0m\u001b[0mdf_x_test_skills_copy_encode\u001b[0m\u001b[0;34m.\u001b[0m\u001b[0mindex\u001b[0m\u001b[0;34m)\u001b[0m\u001b[0;34m\u001b[0m\u001b[0;34m\u001b[0m\u001b[0m\n",
            "\u001b[0;32m/usr/local/lib/python3.10/dist-packages/sklearn/neighbors/_classification.py\u001b[0m in \u001b[0;36mpredict\u001b[0;34m(self, X)\u001b[0m\n\u001b[1;32m    232\u001b[0m             \u001b[0;31m# In that case, we do not need the distances to perform\u001b[0m\u001b[0;34m\u001b[0m\u001b[0;34m\u001b[0m\u001b[0m\n\u001b[1;32m    233\u001b[0m             \u001b[0;31m# the weighting so we do not compute them.\u001b[0m\u001b[0;34m\u001b[0m\u001b[0;34m\u001b[0m\u001b[0m\n\u001b[0;32m--> 234\u001b[0;31m             \u001b[0mneigh_ind\u001b[0m \u001b[0;34m=\u001b[0m \u001b[0mself\u001b[0m\u001b[0;34m.\u001b[0m\u001b[0mkneighbors\u001b[0m\u001b[0;34m(\u001b[0m\u001b[0mX\u001b[0m\u001b[0;34m,\u001b[0m \u001b[0mreturn_distance\u001b[0m\u001b[0;34m=\u001b[0m\u001b[0;32mFalse\u001b[0m\u001b[0;34m)\u001b[0m\u001b[0;34m\u001b[0m\u001b[0;34m\u001b[0m\u001b[0m\n\u001b[0m\u001b[1;32m    235\u001b[0m             \u001b[0mneigh_dist\u001b[0m \u001b[0;34m=\u001b[0m \u001b[0;32mNone\u001b[0m\u001b[0;34m\u001b[0m\u001b[0;34m\u001b[0m\u001b[0m\n\u001b[1;32m    236\u001b[0m         \u001b[0;32melse\u001b[0m\u001b[0;34m:\u001b[0m\u001b[0;34m\u001b[0m\u001b[0;34m\u001b[0m\u001b[0m\n",
            "\u001b[0;32m/usr/local/lib/python3.10/dist-packages/sklearn/neighbors/_base.py\u001b[0m in \u001b[0;36mkneighbors\u001b[0;34m(self, X, n_neighbors, return_distance)\u001b[0m\n\u001b[1;32m    804\u001b[0m                 \u001b[0mX\u001b[0m \u001b[0;34m=\u001b[0m \u001b[0m_check_precomputed\u001b[0m\u001b[0;34m(\u001b[0m\u001b[0mX\u001b[0m\u001b[0;34m)\u001b[0m\u001b[0;34m\u001b[0m\u001b[0;34m\u001b[0m\u001b[0m\n\u001b[1;32m    805\u001b[0m             \u001b[0;32melse\u001b[0m\u001b[0;34m:\u001b[0m\u001b[0;34m\u001b[0m\u001b[0;34m\u001b[0m\u001b[0m\n\u001b[0;32m--> 806\u001b[0;31m                 \u001b[0mX\u001b[0m \u001b[0;34m=\u001b[0m \u001b[0mself\u001b[0m\u001b[0;34m.\u001b[0m\u001b[0m_validate_data\u001b[0m\u001b[0;34m(\u001b[0m\u001b[0mX\u001b[0m\u001b[0;34m,\u001b[0m \u001b[0maccept_sparse\u001b[0m\u001b[0;34m=\u001b[0m\u001b[0;34m\"csr\"\u001b[0m\u001b[0;34m,\u001b[0m \u001b[0mreset\u001b[0m\u001b[0;34m=\u001b[0m\u001b[0;32mFalse\u001b[0m\u001b[0;34m,\u001b[0m \u001b[0morder\u001b[0m\u001b[0;34m=\u001b[0m\u001b[0;34m\"C\"\u001b[0m\u001b[0;34m)\u001b[0m\u001b[0;34m\u001b[0m\u001b[0;34m\u001b[0m\u001b[0m\n\u001b[0m\u001b[1;32m    807\u001b[0m \u001b[0;34m\u001b[0m\u001b[0m\n\u001b[1;32m    808\u001b[0m         \u001b[0mn_samples_fit\u001b[0m \u001b[0;34m=\u001b[0m \u001b[0mself\u001b[0m\u001b[0;34m.\u001b[0m\u001b[0mn_samples_fit_\u001b[0m\u001b[0;34m\u001b[0m\u001b[0;34m\u001b[0m\u001b[0m\n",
            "\u001b[0;32m/usr/local/lib/python3.10/dist-packages/sklearn/base.py\u001b[0m in \u001b[0;36m_validate_data\u001b[0;34m(self, X, y, reset, validate_separately, **check_params)\u001b[0m\n\u001b[1;32m    546\u001b[0m             \u001b[0mvalidated\u001b[0m\u001b[0;34m.\u001b[0m\u001b[0;34m\u001b[0m\u001b[0;34m\u001b[0m\u001b[0m\n\u001b[1;32m    547\u001b[0m         \"\"\"\n\u001b[0;32m--> 548\u001b[0;31m         \u001b[0mself\u001b[0m\u001b[0;34m.\u001b[0m\u001b[0m_check_feature_names\u001b[0m\u001b[0;34m(\u001b[0m\u001b[0mX\u001b[0m\u001b[0;34m,\u001b[0m \u001b[0mreset\u001b[0m\u001b[0;34m=\u001b[0m\u001b[0mreset\u001b[0m\u001b[0;34m)\u001b[0m\u001b[0;34m\u001b[0m\u001b[0;34m\u001b[0m\u001b[0m\n\u001b[0m\u001b[1;32m    549\u001b[0m \u001b[0;34m\u001b[0m\u001b[0m\n\u001b[1;32m    550\u001b[0m         \u001b[0;32mif\u001b[0m \u001b[0my\u001b[0m \u001b[0;32mis\u001b[0m \u001b[0;32mNone\u001b[0m \u001b[0;32mand\u001b[0m \u001b[0mself\u001b[0m\u001b[0;34m.\u001b[0m\u001b[0m_get_tags\u001b[0m\u001b[0;34m(\u001b[0m\u001b[0;34m)\u001b[0m\u001b[0;34m[\u001b[0m\u001b[0;34m\"requires_y\"\u001b[0m\u001b[0;34m]\u001b[0m\u001b[0;34m:\u001b[0m\u001b[0;34m\u001b[0m\u001b[0;34m\u001b[0m\u001b[0m\n",
            "\u001b[0;32m/usr/local/lib/python3.10/dist-packages/sklearn/base.py\u001b[0m in \u001b[0;36m_check_feature_names\u001b[0;34m(self, X, reset)\u001b[0m\n\u001b[1;32m    479\u001b[0m                 )\n\u001b[1;32m    480\u001b[0m \u001b[0;34m\u001b[0m\u001b[0m\n\u001b[0;32m--> 481\u001b[0;31m             \u001b[0;32mraise\u001b[0m \u001b[0mValueError\u001b[0m\u001b[0;34m(\u001b[0m\u001b[0mmessage\u001b[0m\u001b[0;34m)\u001b[0m\u001b[0;34m\u001b[0m\u001b[0;34m\u001b[0m\u001b[0m\n\u001b[0m\u001b[1;32m    482\u001b[0m \u001b[0;34m\u001b[0m\u001b[0m\n\u001b[1;32m    483\u001b[0m     def _validate_data(\n",
            "\u001b[0;31mValueError\u001b[0m: The feature names should match those that were passed during fit.\nFeature names unseen at fit time:\n- Job Title_chief|data|office\n- Job Title_director|of|business|developmen\n- Job Title_director|of|product|managemen\n- Job Title_it|suppor\n- Job Title_junior|advertising|coordinato\n- ...\nFeature names seen at fit time, yet now missing:\n- Country_RazShmuelykingdom\n- Job Title_accountan\n- Job Title_account|manage\n- Job Title_business|development|manage\n- Job Title_business|intelligence|analys\n- ...\n"
          ]
        }
      ]
    },
    {
      "cell_type": "markdown",
      "source": [
        "# RESULTS"
      ],
      "metadata": {
        "id": "dAdHPa5Y4HFN"
      }
    },
    {
      "cell_type": "code",
      "source": [],
      "metadata": {
        "id": "xPV5UWgy-OWM"
      },
      "execution_count": 116,
      "outputs": []
    },
    {
      "cell_type": "code",
      "source": [
        "df_results = pd.DataFrame(results_dict)\n",
        "df_results"
      ],
      "metadata": {
        "id": "FizlAh0H-Bpd"
      },
      "execution_count": null,
      "outputs": []
    },
    {
      "cell_type": "code",
      "source": [
        "sns.barplot(df_results,x='model_name',y='rmse_val',hue='model_config').set_title(\"RMSE compare\");"
      ],
      "metadata": {
        "colab": {
          "base_uri": "https://localhost:8080/",
          "height": 472
        },
        "id": "JeiE6PhJ-RcR",
        "outputId": "4464bf7c-ebb2-4423-8758-28e7b90d9f7c"
      },
      "execution_count": 164,
      "outputs": [
        {
          "output_type": "display_data",
          "data": {
            "text/plain": [
              "<Figure size 640x480 with 1 Axes>"
            ],
            "image/png": "[encoded data removed]"
          },
          "metadata": {}
        }
      ]
    },
    {
      "cell_type": "code",
      "source": [],
      "metadata": {
        "id": "ViF_80aRFwGH"
      },
      "execution_count": null,
      "outputs": []
    }
  ]
}